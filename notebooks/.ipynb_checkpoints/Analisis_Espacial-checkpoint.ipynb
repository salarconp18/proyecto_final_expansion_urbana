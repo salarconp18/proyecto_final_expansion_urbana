{
 "cells": [
  {
   "cell_type": "markdown",
   "id": "464fc625-f1c2-4484-bfce-d13171181b20",
   "metadata": {},
   "source": [
    "# EVALUACIÓN DE APTITUD TERRITORIAL PARA IDENTIFICACIÓN DE ZONAS DE EXPANSIÓN URBANA PARA MUNICIPIOS INTERMEDIOS"
   ]
  },
  {
   "cell_type": "markdown",
   "id": "76eca191-e0d8-4533-9ddc-9afdfb6b7a2e",
   "metadata": {},
   "source": [
    "## ANALIS DE DATOS "
   ]
  },
  {
   "cell_type": "markdown",
   "id": "4830a941-2601-4ead-a701-db5d862afac2",
   "metadata": {},
   "source": [
    "Criterios para selección de zonas de expansión urbana\n",
    "\n",
    "* Pendiente del terreno menor al 15%\n",
    "* Cercania a vias principales (< 1 km)\n",
    "* Cercania a centros poblados (< 1 km)"
   ]
  }
 ],
 "metadata": {
  "kernelspec": {
   "display_name": "Python 3 (ipykernel)",
   "language": "python",
   "name": "python3"
  },
  "language_info": {
   "codemirror_mode": {
    "name": "ipython",
    "version": 3
   },
   "file_extension": ".py",
   "mimetype": "text/x-python",
   "name": "python",
   "nbconvert_exporter": "python",
   "pygments_lexer": "ipython3",
   "version": "3.11.9"
  }
 },
 "nbformat": 4,
 "nbformat_minor": 5
}
